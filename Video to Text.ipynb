{
 "cells": [
  {
   "cell_type": "code",
   "execution_count": 7,
   "id": "9d5fa7dd",
   "metadata": {},
   "outputs": [],
   "source": [
    "import moviepy.editor as mp"
   ]
  },
  {
   "cell_type": "code",
   "execution_count": 24,
   "id": "d2947d20",
   "metadata": {},
   "outputs": [
    {
     "name": "stdout",
     "output_type": "stream",
     "text": [
      "MoviePy - Writing audio in Converted_audio.wav\n"
     ]
    },
    {
     "name": "stderr",
     "output_type": "stream",
     "text": [
      "                                                                      "
     ]
    },
    {
     "name": "stdout",
     "output_type": "stream",
     "text": [
      "MoviePy - Done.\n",
      "Conversion to audio finished\n"
     ]
    },
    {
     "name": "stderr",
     "output_type": "stream",
     "text": [
      "\r"
     ]
    }
   ],
   "source": [
    "clip = mp.VideoFileClip(r\"C:\\Users\\addar\\Downloads\\Google India Engineers in a Mock Coding Interview.mp4\").subclip(10,100)\n",
    "clip.audio.write_audiofile(r\"Converted_audio.wav\")\n",
    "\n",
    "print(\"Conversion to audio finished\")"
   ]
  },
  {
   "cell_type": "code",
   "execution_count": 25,
   "id": "d35ce3b8",
   "metadata": {},
   "outputs": [],
   "source": [
    "import speech_recognition as sr\n",
    "\n",
    "r = sr.Recognizer()"
   ]
  },
  {
   "cell_type": "code",
   "execution_count": 27,
   "id": "0110aecc",
   "metadata": {},
   "outputs": [],
   "source": [
    "audio = sr.AudioFile(\"Converted_audio.wav\")\n"
   ]
  },
  {
   "cell_type": "code",
   "execution_count": 28,
   "id": "805972b9",
   "metadata": {},
   "outputs": [
    {
     "name": "stdout",
     "output_type": "stream",
     "text": [
      "Text: \n",
      "hi my name is ashwatha I am a software engineer at Google I am a hands on software engineer involved in coding mainly with Java and C plus plus I also mental other engineers and I am involved in design and architecture decisions and Swati I am a software engineer at Google in today's video he will talk in Tamil state of Google engineer approaches and Engineering problem a problem number\n"
     ]
    }
   ],
   "source": [
    "with audio as source:\n",
    "    audio = r.record(source)\n",
    "    result = r.recognize_google(audio)\n",
    "\n",
    "print(\"Text: \")\n",
    "print(result)"
   ]
  },
  {
   "cell_type": "code",
   "execution_count": null,
   "id": "34e6e134",
   "metadata": {},
   "outputs": [],
   "source": []
  }
 ],
 "metadata": {
  "kernelspec": {
   "display_name": "Python 3 (ipykernel)",
   "language": "python",
   "name": "python3"
  },
  "language_info": {
   "codemirror_mode": {
    "name": "ipython",
    "version": 3
   },
   "file_extension": ".py",
   "mimetype": "text/x-python",
   "name": "python",
   "nbconvert_exporter": "python",
   "pygments_lexer": "ipython3",
   "version": "3.10.9"
  }
 },
 "nbformat": 4,
 "nbformat_minor": 5
}
